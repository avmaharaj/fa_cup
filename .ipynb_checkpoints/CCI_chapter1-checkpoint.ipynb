{
 "cells": [
  {
   "cell_type": "code",
   "execution_count": 2,
   "metadata": {
    "collapsed": false
   },
   "outputs": [
    {
     "data": {
      "text/plain": [
       "True"
      ]
     },
     "execution_count": 2,
     "metadata": {},
     "output_type": "execute_result"
    }
   ],
   "source": [
    "def checkperm(s1,s2):\n",
    "    return set(s1) == set(s2)\n",
    "        "
   ]
  },
  {
   "cell_type": "code",
   "execution_count": 43,
   "metadata": {
    "collapsed": false
   },
   "outputs": [
    {
     "name": "stdout",
     "output_type": "stream",
     "text": [
      "Hey%20what's%20up\n"
     ]
    }
   ],
   "source": [
    "def urlify(string,trueLength):\n",
    "    out =\"\"\n",
    "    chars = string.split(\" \")\n",
    "    for char in chars:\n",
    "        if char != \"\":\n",
    "            out = out + char + '%20'\n",
    "    \n",
    "    return out[:-3]\n",
    "\n",
    "\n",
    "print urlify(\"   Hey     what's   up  \",12)"
   ]
  },
  {
   "cell_type": "code",
   "execution_count": 41,
   "metadata": {
    "collapsed": false
   },
   "outputs": [
    {
     "name": "stdout",
     "output_type": "stream",
     "text": [
      "{'a': 4, 'c': 2, 't': 2, 'o': 1}\n"
     ]
    },
    {
     "data": {
      "text/plain": [
       "True"
      ]
     },
     "execution_count": 41,
     "metadata": {},
     "output_type": "execute_result"
    }
   ],
   "source": [
    "def Palindromeperm(word):\n",
    "    word = list(word.lower())\n",
    "    chars = {}\n",
    "    \n",
    "    for char in word:\n",
    "        if char in chars:\n",
    "            chars[char]+=1\n",
    "        elif char != \" \":\n",
    "            chars[char] = 1\n",
    "    \n",
    "    numone = 0\n",
    "    numpairs = 0\n",
    "    isperm = True\n",
    "    print chars\n",
    "    for key in chars:\n",
    "        if chars[key]%2 == 0:\n",
    "            numpairs += 1\n",
    "        elif chars[key] == 1:\n",
    "            numone += 1\n",
    "        else:\n",
    "            isperm = False\n",
    "    \n",
    "    if numone > 1:\n",
    "        isperm = False\n",
    "        \n",
    "    return isperm\n",
    "\n",
    "Palindromeperm(\"Taaact Coa\")\n",
    "        "
   ]
  },
  {
   "cell_type": "code",
   "execution_count": null,
   "metadata": {
    "collapsed": true
   },
   "outputs": [],
   "source": []
  }
 ],
 "metadata": {
  "kernelspec": {
   "display_name": "Python 2",
   "language": "python",
   "name": "python2"
  },
  "language_info": {
   "codemirror_mode": {
    "name": "ipython",
    "version": 2
   },
   "file_extension": ".py",
   "mimetype": "text/x-python",
   "name": "python",
   "nbconvert_exporter": "python",
   "pygments_lexer": "ipython2",
   "version": "2.7.11"
  }
 },
 "nbformat": 4,
 "nbformat_minor": 0
}
